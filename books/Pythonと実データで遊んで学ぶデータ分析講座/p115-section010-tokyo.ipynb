{
 "nbformat": 4,
 "nbformat_minor": 2,
 "metadata": {
  "language_info": {
   "name": "python",
   "codemirror_mode": {
    "name": "ipython",
    "version": 3
   },
   "version": "3.6.2-final"
  },
  "orig_nbformat": 2,
  "file_extension": ".py",
  "mimetype": "text/x-python",
  "name": "python",
  "npconvert_exporter": "python",
  "pygments_lexer": "ipython3",
  "version": 3,
  "kernelspec": {
   "name": "python36264bitanaconda3500pyenv00fbc43cdd1b40f5b2fb14540e8b3948",
   "display_name": "Python 3.6.2 64-bit ('anaconda3-5.0.0': pyenv)"
  }
 },
 "cells": [
  {
   "cell_type": "code",
   "execution_count": 1,
   "metadata": {},
   "outputs": [],
   "source": [
    "import numpy as np\n",
    "import pandas as pd\n",
    "import matplotlib.pyplot as plt\n",
    "import random\n",
    "%matplotlib inline\n",
    "import seaborn as sns\n",
    "from sklearn.linear_model import LinearRegression, Ridge, Lasso\n",
    "from sklearn.metrics import mean_absolute_error\n",
    "from sklearn.model_selection import train_test_split\n",
    "\n",
    "import requests\n",
    "import json\n",
    "import re"
   ]
  },
  {
   "cell_type": "code",
   "execution_count": 2,
   "metadata": {},
   "outputs": [],
   "source": [
    "data_from_csv = pd.read_csv(\"data/13_Tokyo_20171_20184.csv\", encoding='cp932')\n",
    "data_used_apartment = data_from_csv.query('種類 == \"中古マンション等\"')\n",
    "\n",
    "columns_name_list = [\"最寄駅：距離（分）\", \"間取り\", \"面積（㎡）\", \"建築年\", \"建物の構造\", \"建ぺい率（％）\", \"容積率（％）\", \"市区町村名\", \"取引価格（総額）\"]\n",
    "\n",
    "data_selected = data_used_apartment[columns_name_list]\n",
    "data_selected_dropna = data_selected.dropna(how='any')\n",
    "# print(data_selected_dropna[\"建築年\"].unique())\n",
    "\n",
    "data_selected_dropna = data_selected_dropna[data_selected_dropna[\"建築年\"].str.match('^平成|昭和')]\n",
    "# print(data_selected_dropna[\"建築年\"].unique())\n",
    "\n",
    "wareki_to_seireki = {'昭和': 1926-1, '平成': 1989-1}\n",
    "\n",
    "building_year_list = data_selected_dropna[\"建築年\"]\n",
    "\n",
    "building_age_list = []\n",
    "for building_year in building_year_list:\n",
    "    # 昭和x年 -> 昭和, xに変換、平成x年 -> 平成, xに変換\n",
    "    building_year_split = re.search(r'(.+?)([0-9]+|元)年', building_year)\n",
    "    # 西暦に変換\n",
    "    seireki = wareki_to_seireki[building_year_split.groups()[0]] + int(building_year_split.groups()[1])\n",
    "\n",
    "    building_age = 2019 - seireki\n",
    "    building_age_list.append(building_age)\n",
    "\n",
    "data_selected_dropna[\"築年数\"] = building_age_list\n",
    "data_added_building_age = data_selected_dropna.drop(\"建築年\", axis=1)"
   ]
  },
  {
   "cell_type": "code",
   "execution_count": 3,
   "metadata": {},
   "outputs": [],
   "source": [
    "columns_name_list = [\"最寄駅：距離（分）\", \"面積（㎡）\", \"築年数\", \"建ぺい率（％）\", \"容積率（％）\", \"取引価格（総額）\"]\n",
    "dummy_list = [\"間取り\", \"建物の構造\", \"市区町村名\"]\n",
    "\n",
    "data_added_dummies = pd.concat([data_added_building_age[columns_name_list], pd.get_dummies(data_added_building_age[dummy_list], drop_first=True)], axis=1)\n",
    "\n",
    "data_added_dummies[\"面積（㎡）\"] = data_added_dummies[\"面積（㎡）\"].astype(float)\n",
    "data_added_dummies = data_added_dummies[~data_added_dummies[\"最寄駅：距離（分）\"].str.contains('\\?')]\n",
    "data_added_dummies[\"最寄駅：距離（分）\"] = data_added_dummies[\"最寄駅：距離（分）\"].astype(float)\n",
    "\n",
    "data_added_dummies = data_added_dummies[data_added_dummies[\"取引価格（総額）\"] < 60000000]"
   ]
  },
  {
   "cell_type": "code",
   "execution_count": 7,
   "metadata": {},
   "outputs": [],
   "source": [
    "x = data_added_dummies.drop(\"取引価格（総額）\", axis=1)\n",
    "y = data_added_dummies[\"取引価格（総額）\"]\n",
    "\n",
    "X_train, X_test, y_train, y_test = train_test_split(x, y, test_size=0.3)"
   ]
  },
  {
   "cell_type": "code",
   "execution_count": 11,
   "metadata": {},
   "outputs": [
    {
     "name": "stdout",
     "output_type": "stream",
     "text": "4680400.46869\n4680717.82296\n4690494.32531\n/Users/kotarohirayama/.pyenv/versions/anaconda3-5.0.0/lib/python3.6/site-packages/sklearn/linear_model/coordinate_descent.py:491: ConvergenceWarning: Objective did not converge. You might want to increase the number of iterations. Fitting data with very small alpha may cause precision problems.\n  ConvergenceWarning)\n"
    }
   ],
   "source": [
    "lr_multi = LinearRegression()\n",
    "\n",
    "lr_multi.fit(X_train, y_train)\n",
    "# print(lr_multi.coef_)\n",
    "# print(lr_multi.intercept_)\n",
    "y_pred_lr = lr_multi.predict(X_test)\n",
    "print(mean_absolute_error(y_pred_lr, y_test))\n",
    "\n",
    "lasso = Lasso(alpha=0.01, normalize=True)\n",
    "lasso.fit(X_train, y_train)\n",
    "# print(lasso.coef_)\n",
    "# print(lasso.intercept_)\n",
    "y_pred_lasso = lasso.predict(X_test)\n",
    "print(mean_absolute_error(y_pred_lasso, y_test))\n",
    "\n",
    "ridge = Ridge(alpha=0.01, normalize=True)\n",
    "ridge.fit(X_train, y_train)\n",
    "# print(ridge.coef_)\n",
    "# print(ridge.intercept_)\n",
    "y_pred_ridge = ridge.predict(X_test)\n",
    "print(mean_absolute_error(y_pred_ridge, y_test))"
   ]
  },
  {
   "cell_type": "code",
   "execution_count": null,
   "metadata": {},
   "outputs": [],
   "source": []
  }
 ]
}