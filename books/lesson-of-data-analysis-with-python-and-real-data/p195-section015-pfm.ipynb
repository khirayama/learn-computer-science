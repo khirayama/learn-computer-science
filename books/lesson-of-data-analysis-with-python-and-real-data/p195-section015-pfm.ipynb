{
 "nbformat": 4,
 "nbformat_minor": 2,
 "metadata": {
  "language_info": {
   "name": "python",
   "codemirror_mode": {
    "name": "ipython",
    "version": 3
   },
   "version": "3.7.4-final"
  },
  "orig_nbformat": 2,
  "file_extension": ".py",
  "mimetype": "text/x-python",
  "name": "python",
  "npconvert_exporter": "python",
  "pygments_lexer": "ipython3",
  "version": 3,
  "kernelspec": {
   "name": "python37464bitbasecondacff26f216ef14249968ccd05a5296b34",
   "display_name": "Python 3.7.4 64-bit ('base': conda)"
  }
 },
 "cells": [
  {
   "cell_type": "code",
   "execution_count": 1,
   "metadata": {},
   "outputs": [],
   "source": [
    "import numpy as np\n",
    "import pandas as pd\n",
    "import matplotlib.pyplot as plt\n",
    "%matplotlib inline\n",
    "\n",
    "from sklearn.cluster import KMeans\n",
    "from sklearn.preprocessing import StandardScaler"
   ]
  },
  {
   "cell_type": "code",
   "execution_count": 2,
   "metadata": {},
   "outputs": [],
   "source": [
    "data_prefecture = pd.read_csv(\"data/data_prefecture_category.csv\", encoding='utf-8', index_col=0)\n",
    "# print(data_prefecture.head())\n",
    "data_prefecture_float = data_prefecture.apply(lambda x: x.str.replace(',', '')).astype(np.float)\n",
    "# print(data_prefecture_float.head())"
   ]
  },
  {
   "cell_type": "code",
   "execution_count": 5,
   "metadata": {},
   "outputs": [
    {
     "name": "stdout",
     "output_type": "stream",
     "text": "都道府県\n札幌市     0\n甲府市     0\n静岡市     0\n名古屋市    0\n大阪市     0\n神戸市     0\n鳥取市     0\n松江市     0\n山口市     0\n長崎市     0\n那覇市     0\n川崎市     0\n相模原市    0\nName: label, dtype: int32\n"
    }
   ],
   "source": [
    "scaler = StandardScaler()\n",
    "data_std = scaler.fit_transform(data_prefecture_float)\n",
    "k_means = KMeans(n_clusters=4)\n",
    "k_means.fit(data_std)\n",
    "\n",
    "data_prefecture_float[\"label\"] = k_means.labels_\n",
    "print(data_prefecture_float[data_prefecture_float[\"label\"] == 0][\"label\"])"
   ]
  },
  {
   "cell_type": "code",
   "execution_count": 8,
   "metadata": {},
   "outputs": [
    {
     "name": "stdout",
     "output_type": "stream",
     "text": "都道府県\n福島市      1\n水戸市      1\n宇都宮市     1\n前橋市      1\nさいたま市    1\n東京都区部    1\n横浜市      1\n金沢市      1\n岐阜市      1\n津市       1\n奈良市      1\n熊本市      1\n大分市      1\n堺市       1\nName: label, dtype: int32\n都道府県\n青森市     2\n盛岡市     2\n秋田市     2\n山形市     2\n富山市     2\n長野市     2\n岡山市     2\n広島市     2\n高松市     2\n佐賀市     2\n宮崎市     2\n鹿児島市    2\n浜松市     2\n北九州市    2\nName: label, dtype: int32\n都道府県\n仙台市     3\n千葉市     3\n新潟市     3\n福井市     3\n大津市     3\n京都市     3\n和歌山市    3\n徳島市     3\n松山市     3\n高知市     3\n福岡市     3\nName: label, dtype: int32\n"
    }
   ],
   "source": [
    "print(data_prefecture_float[data_prefecture_float[\"label\"] == 1][\"label\"])\n",
    "print(data_prefecture_float[data_prefecture_float[\"label\"] == 2][\"label\"])\n",
    "print(data_prefecture_float[data_prefecture_float[\"label\"] == 3][\"label\"])"
   ]
  },
  {
   "cell_type": "code",
   "execution_count": 9,
   "metadata": {},
   "outputs": [],
   "source": [
    "k_means_feature = pd.concat([\n",
    "    data_prefecture_float[data_prefecture_float[\"label\"] == 0].mean(),\n",
    "    data_prefecture_float[data_prefecture_float[\"label\"] == 1].mean(),\n",
    "    data_prefecture_float[data_prefecture_float[\"label\"] == 2].mean(),\n",
    "    data_prefecture_float[data_prefecture_float[\"label\"] == 3].mean()],\n",
    "    axis = 1)"
   ]
  },
  {
   "cell_type": "code",
   "execution_count": 10,
   "metadata": {},
   "outputs": [
    {
     "data": {
      "text/html": "<div>\n<style scoped>\n    .dataframe tbody tr th:only-of-type {\n        vertical-align: middle;\n    }\n\n    .dataframe tbody tr th {\n        vertical-align: top;\n    }\n\n    .dataframe thead th {\n        text-align: right;\n    }\n</style>\n<table border=\"1\" class=\"dataframe\">\n  <thead>\n    <tr style=\"text-align: right;\">\n      <th></th>\n      <th>0</th>\n      <th>1</th>\n      <th>2</th>\n      <th>3</th>\n    </tr>\n  </thead>\n  <tbody>\n    <tr>\n      <td>食料</td>\n      <td>749825.692308</td>\n      <td>912327.428571</td>\n      <td>810978.500000</td>\n      <td>850511.636364</td>\n    </tr>\n    <tr>\n      <td>住居</td>\n      <td>296491.076923</td>\n      <td>258157.857143</td>\n      <td>265104.857143</td>\n      <td>197702.454545</td>\n    </tr>\n    <tr>\n      <td>光熱・水道</td>\n      <td>186583.076923</td>\n      <td>227291.142857</td>\n      <td>231796.142857</td>\n      <td>218556.909091</td>\n    </tr>\n    <tr>\n      <td>家具・家事</td>\n      <td>93325.615385</td>\n      <td>125357.785714</td>\n      <td>106734.928571</td>\n      <td>122580.272727</td>\n    </tr>\n    <tr>\n      <td>被服及び</td>\n      <td>114042.538462</td>\n      <td>169896.071429</td>\n      <td>133697.500000</td>\n      <td>137261.090909</td>\n    </tr>\n    <tr>\n      <td>保健医療</td>\n      <td>101073.615385</td>\n      <td>129479.642857</td>\n      <td>122339.642857</td>\n      <td>101760.454545</td>\n    </tr>\n    <tr>\n      <td>交通・通信</td>\n      <td>429073.923077</td>\n      <td>576807.714286</td>\n      <td>568859.214286</td>\n      <td>475672.727273</td>\n    </tr>\n    <tr>\n      <td>教育</td>\n      <td>101571.076923</td>\n      <td>223442.000000</td>\n      <td>125559.857143</td>\n      <td>171912.363636</td>\n    </tr>\n    <tr>\n      <td>教養娯楽</td>\n      <td>287811.076923</td>\n      <td>396619.000000</td>\n      <td>290172.285714</td>\n      <td>327326.363636</td>\n    </tr>\n    <tr>\n      <td>諸雑費</td>\n      <td>220203.230769</td>\n      <td>293681.714286</td>\n      <td>257663.571429</td>\n      <td>273893.727273</td>\n    </tr>\n    <tr>\n      <td>label</td>\n      <td>0.000000</td>\n      <td>1.000000</td>\n      <td>2.000000</td>\n      <td>3.000000</td>\n    </tr>\n  </tbody>\n</table>\n</div>",
      "text/plain": "                   0              1              2              3\n食料     749825.692308  912327.428571  810978.500000  850511.636364\n住居     296491.076923  258157.857143  265104.857143  197702.454545\n光熱・水道  186583.076923  227291.142857  231796.142857  218556.909091\n家具・家事   93325.615385  125357.785714  106734.928571  122580.272727\n被服及び   114042.538462  169896.071429  133697.500000  137261.090909\n保健医療   101073.615385  129479.642857  122339.642857  101760.454545\n交通・通信  429073.923077  576807.714286  568859.214286  475672.727273\n教育     101571.076923  223442.000000  125559.857143  171912.363636\n教養娯楽   287811.076923  396619.000000  290172.285714  327326.363636\n諸雑費    220203.230769  293681.714286  257663.571429  273893.727273\nlabel       0.000000       1.000000       2.000000       3.000000"
     },
     "execution_count": 10,
     "metadata": {},
     "output_type": "execute_result"
    }
   ],
   "source": [
    "k_means_feature"
   ]
  },
  {
   "cell_type": "code",
   "execution_count": null,
   "metadata": {},
   "outputs": [],
   "source": []
  }
 ]
}